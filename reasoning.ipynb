{
 "cells": [
  {
   "cell_type": "markdown",
   "metadata": {},
   "source": [
    "# Reasoning in AI\n",
    "\n",
    "Reasoning in AI refers to the process of using logical inference and deduction to draw conclusions and make informed decisions based on existing knowledge and relationships between facts. It involves applying rules and relations to derive new information from available data. The different types of reasoning in AI are *deductive*, *inductive*, *common sense*, *monotonic* and *non-monotonic* reasoning.\n",
    "\n",
    "- Goal: Logical deductions and conclusions from knowledge base/data.\n",
    "- Quality Criteria: Depends on accuracy, completeness, availability of relevant facts, logical rules, relationships, soundness, and consistency.\n",
    "- Success Criteria: Measured by correct answers, problem-solving, and accurate decisions from data and rules."
   ]
  },
  {
   "cell_type": "markdown",
   "metadata": {},
   "source": [
    "## Application: WeatherBot\n",
    "\n",
    "* Deductive Reasoning: Used for drawing specific conclusions from general facts. E.g., if it's raining, it must be cloudy.\n",
    "* Common Sense Reasoning: Based on general knowledge that is considered \"common sense.\" E.g., if it's raining, the ground is wet.\n",
    "* Non-Monotonic Reasoning: Allows for revisions of conclusions based on new information. E.g., if it's cloudy, expect rain, but if there is a high-pressure system, revise the conclusion that it won't rain."
   ]
  },
  {
   "cell_type": "code",
   "execution_count": 16,
   "metadata": {
    "tags": []
   },
   "outputs": [
    {
     "name": "stdout",
     "output_type": "stream",
     "text": [
      "You will get wet. Better find an umbrella.\n"
     ]
    }
   ],
   "source": [
    "class WeatherReasoning:\n",
    "    def __init__(self):\n",
    "        self.knowledge_base = {\n",
    "            \"is_raining\": None,\n",
    "            \"is_cloudy\": None,\n",
    "            \"has_umbrella\": None,\n",
    "            \"ground_is_wet\": None, # Common sense attribute\n",
    "            \"is_snowing\": None,    # Common sense attribute\n",
    "            \"temperature_below_freezing\": None # Common sense attribute\n",
    "        }\n",
    "\n",
    "    def tell(self, fact, value):\n",
    "        self.knowledge_base[fact] = value\n",
    "        self.deduce()\n",
    "\n",
    "    def deduce(self):\n",
    "        # If it's raining, then it must be cloudy\n",
    "        if self.knowledge_base[\"is_raining\"] is True:\n",
    "            self.knowledge_base[\"is_cloudy\"] = True\n",
    "            self.knowledge_base[\"ground_is_wet\"] = True # Common sense reasoning\n",
    "\n",
    "        # If it's snowing, then the temperature must be below freezing\n",
    "        if self.knowledge_base[\"is_snowing\"] is True: # Common sense reasoning\n",
    "            self.knowledge_base[\"temperature_below_freezing\"] = True\n",
    "\n",
    "        # If it's cloudy and you have an umbrella, you might expect rain\n",
    "        if self.knowledge_base[\"is_cloudy\"] is True and self.knowledge_base[\"has_umbrella\"] is True:\n",
    "            print(\"You are prepared for rain.\")\n",
    "\n",
    "        # If it's raining and you don't have an umbrella, you will get wet\n",
    "        if self.knowledge_base[\"is_raining\"] is True and self.knowledge_base[\"has_umbrella\"] is False:\n",
    "            print(\"You will get wet. Better find an umbrella.\")\n",
    "\n",
    "    def ask(self, query):\n",
    "        return self.knowledge_base.get(query, \"Unknown\")\n",
    "\n",
    "weatherBot = WeatherReasoning()\n",
    "weatherBot.tell(\"is_raining\", True)\n",
    "weatherBot.tell(\"has_umbrella\", False)"
   ]
  },
  {
   "cell_type": "code",
   "execution_count": 17,
   "metadata": {
    "tags": []
   },
   "outputs": [
    {
     "name": "stdout",
     "output_type": "stream",
     "text": [
      "You are prepared for rain.\n"
     ]
    }
   ],
   "source": [
    "weatherBot.tell(\"has_umbrella\", True)"
   ]
  },
  {
   "cell_type": "markdown",
   "metadata": {},
   "source": [
    "* Inductive Reasoning: Starts with specific instances and induces general principles. In the context of AI, inductive reasoning often resembles the process of learning from data. Here's how the WeatherBot would be like:"
   ]
  },
  {
   "cell_type": "code",
   "execution_count": null,
   "metadata": {},
   "outputs": [],
   "source": [
    "from sklearn.tree import DecisionTreeClassifier\n",
    "import pandas as pd\n",
    "\n",
    "data = {\n",
    "    'is_raining': [1, 0, 1, 0, 0],\n",
    "    'is_cloudy': [1, 1, 0, 0, 1],\n",
    "    'temperature': [15, 25, 18, 30, 20],\n",
    "    'carry_umbrella': [1, 0, 1, 0, 0]\n",
    "}\n",
    "\n",
    "df = pd.DataFrame(data)\n",
    "\n",
    "X = df[['is_raining', 'is_cloudy', 'temperature']]\n",
    "y = df['carry_umbrella']\n",
    "\n",
    "clf = DecisionTreeClassifier()\n",
    "clf.fit(X, y)\n",
    "\n",
    "new_weather_data = [[0, 1, 18]]\n",
    "prediction = clf.predict(new_weather_data)\n",
    "\n",
    "if prediction[0] == 1:\n",
    "    print(\"You should carry an umbrella.\")\n",
    "else:\n",
    "    print(\"You don't need to carry an umbrella.\")"
   ]
  },
  {
   "cell_type": "markdown",
   "metadata": {},
   "source": [
    "## Resources\n",
    "\n",
    "* Frank Trollman's Artificial Intelligence Class, CODE University (https://classroom.google.com/w/MzA1Mzk0ODY0MTI3/t/all)\n",
    "* PythonGeeks. Reasoning in Artificial Intelligence. [pythongeeks.org](https://pythongeeks.org/reasoning-in-artificial-intelligence/)\n",
    "* Scikit Learn. Decision Tree Classifier. [scikit-learn.org](https://scikit-learn.org/stable/modules/generated/sklearn.tree.DecisionTreeClassifier.html)\n",
    "* Normalized Nerd. Decision Tree Classification Clearly Explained. https://www.youtube.com/watch?v=ZVR2Way4nwQ\n",
    "* GeekforGeeks. Monotonic Reasoning vs Non-Monotonic Reasoning. [geeksforgeeks.org](https://www.geeksforgeeks.org/monotonic-reasoning-vs-non-monotonic-reasoning/)"
   ]
  }
 ],
 "metadata": {
  "kernelspec": {
   "display_name": "Python 3 (ipykernel)",
   "language": "python",
   "name": "python3"
  },
  "language_info": {
   "codemirror_mode": {
    "name": "ipython",
    "version": 3
   },
   "file_extension": ".py",
   "mimetype": "text/x-python",
   "name": "python",
   "nbconvert_exporter": "python",
   "pygments_lexer": "ipython3",
   "version": "3.11.3"
  }
 },
 "nbformat": 4,
 "nbformat_minor": 4
}
