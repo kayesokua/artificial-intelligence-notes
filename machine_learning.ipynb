{
 "cells": [
  {
   "cell_type": "markdown",
   "metadata": {},
   "source": [
    "# Machine Learning\n",
    "\n",
    "Machine Learning (ML) in Artificial Intelligence is the field of study that focuses on developing algorithms and models that enable computers to learn patterns from data and make predictions or decisions without explicit programming. Its goal is to build models that can generalize from observed data to make accurate predictions or decisions on new, unseen data. ML systems can be divided into two broad categories: predictive ML and generative AI.\n",
    "\n",
    "* **Problem Framing**: First, you need to consider if ML is the right approach to the problem and how to frame the problem in ML terms. \n",
    "* **Model Evaluation**: *A non-ML solution is the benchmark to measure an ML solution against* refers to using non-Machine Learning solutions as the baseline for evaluating and comparing the performance of solutions. This evaluation involve various metrics such as Accuracy, F1 Score, etc.\n",
    "\n",
    "[Read Google's guidelines here.](https://developers.google.com/machine-learning/problem-framing/problem)\n",
    "\n",
    "### Import Modules"
   ]
  },
  {
   "cell_type": "code",
   "execution_count": 3,
   "metadata": {
    "tags": []
   },
   "outputs": [],
   "source": [
    "import pandas as pd\n",
    "import numpy as np\n",
    "import matplotlib.pyplot as plt"
   ]
  },
  {
   "cell_type": "markdown",
   "metadata": {},
   "source": [
    "## Detecting Ride Anomalies Using DBSCAN\n",
    "\n",
    "In this implementation, we apply unsupervised learning to detect anomalies in ride data. Specifically, we use the [Density-Based Spatial Clustering of Applications with Noise](https://scikit-learn.org/stable/modules/generated/sklearn.cluster.DBSCAN.html) algorithm to identify clusters in the data and the elements that don't belong to any cluster. These unclustered elements, also referred to as noise or outliers, might signify instances where unusual or unexpected events have occurred. The example provided illustrates this concept in detail. This example is taken from Packt."
   ]
  },
  {
   "cell_type": "code",
   "execution_count": 4,
   "metadata": {
    "tags": []
   },
   "outputs": [
    {
     "data": {
      "text/plain": [
       "<Axes: xlabel='ride_dist', ylabel='ride_time'>"
      ]
     },
     "execution_count": 4,
     "metadata": {},
     "output_type": "execute_result"
    },
    {
     "data": {
      "image/png": "[encoded data removed]",
      "text/plain": [
       "<Figure size 640x480 with 1 Axes>"
      ]
     },
     "metadata": {},
     "output_type": "display_data"
    }
   ],
   "source": [
    "df = pd.read_csv('data/rides.csv')\n",
    "df.plot(x='ride_dist', y='ride_time', kind='scatter', grid=True)"
   ]
  },
  {
   "cell_type": "code",
   "execution_count": null,
   "metadata": {
    "tags": []
   },
   "outputs": [],
   "source": [
    "from sklearn.preprocessing import StandardScaler\n",
    "from sklearn.cluster import DBSCAN\n",
    "from sklearn import metrics\n",
    "\n",
    "def cluster_and_label(X, create_and_show_plot=True):\n",
    "    X = StandardScaler().fit_transform(X)\n",
    "    db = DBSCAN(eps=0.3, min_samples=10).fit(X)\n",
    "    core_samples_mask = np.zeros_like(db.labels_, dtype=bool)\n",
    "    core_samples_mask[db.core_sample_indices_] = True\n",
    "    labels = db.labels_\n",
    "    n_clusters_ = len(set(labels)) - (1 if -1 in labels else 0)\n",
    "    n_noise_ = list(labels).count(-1)\n",
    "\n",
    "    print('Estimated number of clusters: %d' % n_clusters_)\n",
    "    print('Estimated number of noise points: %d' % n_noise_)\n",
    "\n",
    "    metadata = {\n",
    "        'clusters': n_clusters_,\n",
    "        'noise': n_noise_,\n",
    "        'silhouette_coefficient': metrics.silhouette_score(X, labels),\n",
    "        'labels': labels,\n",
    "    }\n",
    "\n",
    "    if create_and_show_plot == True:\n",
    "        fig = plt.figure(figsize=(6,6))\n",
    "        unique_labels = set(labels)\n",
    "        colors = [plt.cm.cool(each)\n",
    "                  for each in np.linspace(0, 1, len(unique_labels))]\n",
    "        for k, col in zip(unique_labels, colors):\n",
    "            if k == -1:\n",
    "                # Black used for noise.\n",
    "                col = [0, 0, 0, 1]\n",
    "            class_member_mask = (labels== k)\n",
    "            xy = X[class_member_mask & core_samples_mask]\n",
    "            plt.plot(xy[:, 0], xy[:, 1], 'o', markerfacecolor=tuple(col),\n",
    "                     markeredgecolor='k', markersize=14)\n",
    "            xy = X[class_member_mask & ~core_samples_mask]\n",
    "            plt.plot(xy[:, 0], xy[:, 1], '^', markerfacecolor=tuple(col),\n",
    "                     markeredgecolor='k', markersize=14)\n",
    "        \n",
    "        plt.xlabel('Standard Scaled Ride Dist.')\n",
    "        plt.ylabel('Standard Scaled Ride Time')\n",
    "        plt.title('Estimated number of clusters: %d' % n_clusters_)\n",
    "        plt.grid()\n",
    "        plt.show()\n",
    "    else:\n",
    "        pass\n",
    "    return metadata\n",
    "\n",
    "X = df[['ride_dist', 'ride_time']]\n",
    "results = cluster_and_label(X)\n",
    "df['label'] = results['labels']"
   ]
  },
  {
   "cell_type": "markdown",
   "metadata": {
    "tags": []
   },
   "source": [
    "## Obstacle Detection using CNN"
   ]
  },
  {
   "cell_type": "code",
   "execution_count": null,
   "metadata": {
    "tags": []
   },
   "outputs": [],
   "source": [
    "from sklearn.metrics import f1_score\n",
    "from skimage.transform import resize\n",
    "\n",
    "model_name = \"obstacle_detection_v3\"\n",
    "\n",
    "X = np.load(\"data/od_X.npy\", allow_pickle=True)\n",
    "y = np.load(\"data/od_y.npy\", allow_pickle=True)\n",
    "X_train, X_test, y_train, y_test = train_test_split(X, y, test_size=0.3, random_state=7)\n",
    "\n",
    "\n",
    "model = tf.keras.models.Sequential([\n",
    "    tf.keras.layers.Conv2D(32, (3,3), activation='relu', input_shape=X_train.shape[1:]),\n",
    "    tf.keras.layers.MaxPooling2D((2,2)),\n",
    "    tf.keras.layers.Conv2D(64, (3,3), activation='relu'),\n",
    "    tf.keras.layers.MaxPooling2D((2,2)),\n",
    "    tf.keras.layers.Conv2D(128, (3,3), activation='relu'),\n",
    "    tf.keras.layers.MaxPooling2D((2,2)),\n",
    "    tf.keras.layers.Conv2D(128, (3,3), activation='relu')\n",
    "    tf.keras.layers.Dense(1, activation='sigmoid')\n",
    "])\n",
    "\n",
    "model.compile(optimizer='adam', loss='binary_crossentropy', metrics=['accuracy'])\n",
    "\n",
    "model.fit(X_train, y_train, epochs=50, batch_size=32,\n",
    "          callbacks=[checkpoint_callback, tensorboard_callback, csv_logger],\n",
    "          validation_data=(X_test, y_test))\n",
    "\n",
    "test_loss, test_acc = model.evaluate(X_test, y_test)\n",
    "print('Test Accuracy:', test_acc)\n",
    "model.save(f\"{model_name}.h5\")\n",
    "model.summary()"
   ]
  },
  {
   "cell_type": "code",
   "execution_count": null,
   "metadata": {},
   "outputs": [],
   "source": [
    "model = load_model('obstacle_detection_v3.h5')\n",
    "predictions = model.predict(data)"
   ]
  },
  {
   "cell_type": "markdown",
   "metadata": {},
   "source": [
    "## Dance Classification Using Deep Learning\n",
    "\n",
    "The code provided utilizes OpenCV for video processing, MediaPipe for pose estimation, and MobileNetV2 for extracting features from dance videos to classify different dance styles such as ballet, contemporary, jazz, and kpop. It reads videos, detects human poses in the frames, extracts relevant features using the pre-trained MobileNetV2 model, and prepares the data for training a supervised machine learning model. The success criteria for this application could include high accuracy in classifying various dance styles, efficient processing of video data, robustness in handling different video qualities and dance forms, and the capability to generalize well to unseen dance performances."
   ]
  },
  {
   "cell_type": "code",
   "execution_count": null,
   "metadata": {},
   "outputs": [],
   "source": [
    "import cv2\n",
    "import mediapipe as mp\n",
    "import numpy as np\n",
    "from keras.applications.mobilenet_v2 import MobileNetV2, preprocess_input\n",
    "from keras.models import Model\n",
    "from sklearn.impute import SimpleImputer\n",
    "import numpy as np\n",
    "from sklearn.tree import DecisionTreeClassifier\n",
    "from joblib import dump, load\n",
    "\n",
    "mp_drawing = mp.solutions.drawing_utils\n",
    "mp_drawing_styles = mp.solutions.drawing_styles\n",
    "mp_pose = mp.solutions.pose\n",
    "\n",
    "base_model = MobileNetV2(weights='imagenet', include_top=True)\n",
    "model = Model(inputs=base_model.input, outputs=base_model.get_layer('global_average_pooling2d').output)\n",
    "\n",
    "def extract_features(video_path, model):\n",
    "    try:\n",
    "        cap = cv2.VideoCapture(video_path)\n",
    "    except:\n",
    "        print(f\"Could not open video file: {video_path}\")\n",
    "        return None\n",
    "\n",
    "    features = []\n",
    "    frame_counter = 0\n",
    "    max_frames = 24 * 16  # Limit to approximately 30 seconds\n",
    "    \n",
    "    while cap.isOpened() and frame_counter < max_frames:\n",
    "        ret, frame = cap.read()\n",
    "        if not ret:\n",
    "            break\n",
    "\n",
    "        frame = cv2.resize(frame, (224, 224))\n",
    "\n",
    "        with mp_pose.Pose(\n",
    "            static_image_mode=False,\n",
    "            model_complexity=2,\n",
    "            enable_segmentation=True,\n",
    "            min_detection_confidence=0.5,\n",
    "            min_tracking_confidence=0.5) as pose:\n",
    "            results = pose.process(cv2.cvtColor(frame, cv2.COLOR_BGR2RGB))\n",
    "\n",
    "        # Only processes frames with detected pose landmarks\n",
    "        if results.pose_landmarks:\n",
    "            preprocessed_frame = preprocess_input(frame)\n",
    "            feature = model.predict(np.expand_dims(preprocessed_frame, axis=0))\n",
    "            features.append(feature.squeeze())\n",
    "            frame_counter += 1\n",
    "        print(f\"Processed frame {frame_counter} of {video_path}\")\n",
    "\n",
    "        cap.set(cv2.CAP_PROP_POS_FRAMES, cap.get(cv2.CAP_PROP_POS_FRAMES) + 10)\n",
    "\n",
    "    cap.release()\n",
    "\n",
    "    imputer = SimpleImputer(strategy='mean')\n",
    "    imputed_features = imputer.fit_transform(features)\n",
    "\n",
    "    if len(features) == 0:\n",
    "        print(f\"No pose detected in video: {video_path}\")\n",
    "        return None\n",
    "\n",
    "    print(f\"Extracted features from {video_path}\")\n",
    "\n",
    "    return np.mean(imputed_features, axis=0)\n",
    "\n",
    "def get_model_labels(video_paths, labels, X_filename, y_filename):\n",
    "    features_list = [extract_features(video_path, model) for video_path in video_paths]\n",
    "    X = np.vstack(features_list)\n",
    "    y = np.array(labels, dtype=str)\n",
    "    np.save(f\"{X_filename}\", X)\n",
    "    np.save(f\"{y_filename}\", y)\n",
    "    return print(\"Training labels saved\")\n",
    "\n",
    "train_videos = [\n",
    "    \"train/ballet_0.mp4\", \"train/ballet_1.mp4\", \"train/ballet_2.mp4\", \"train/ballet_3.mp4\", \"train/ballet_4.mp4\",\n",
    "    \"train/contemporary_0.mp4\", \"train/contemporary_1.mp4\", \"train/contemporary_2.mp4\", \"train/contemporary_3.mp4\", \"train/contemporary_4.mp4\",\n",
    "    \"train/jazz_0.mp4\", \"train/jazz_1.mp4\", \"train/jazz_2.mp4\", \"train/jazz_3.mp4\", \"train/jazz_4.mp4\",\n",
    "    \"train/kpop_0.mp4\", \"train/kpop_1.mp4\", \"train/kpop_2.mp4\", \"train/kpop_3.mp4\", \"train/kpop_4.mp4\"]\n",
    "train_labels = ['ballet', 'ballet', 'ballet', 'ballet', 'ballet',\n",
    "          'contemporary', 'contemporary', 'contemporary', 'contemporary', 'contemporary',\n",
    "          'jazz', 'jazz', 'jazz', 'jazz', 'jazz',\n",
    "          'kpop', 'kpop', 'kpop', 'kpop', 'kpop']\n",
    "\n",
    "get_model_labels(train_videos, train_labels, \"X_train.npy\", \"y_train.npy\")\n",
    "\n",
    "eval_videos = [\"eval/ballet_0.mp4\",\"eval/ballet_1.mp4\",\"eval/contemporary_0.mp4\",\"eval/contemporary_1.mp4\",\"eval/kpop_0.mp4\"]\n",
    "eval_labels = ['ballet', 'ballet', 'contemporary', 'contemporary', 'kpop']\n",
    "\n",
    "get_model_labels(eval_videos, eval_labels, \"X_eval.npy\", \"y_eval.npy\")\n",
    "\n",
    "X_train = np.load(\"X_train.npy\", allow_pickle=True)\n",
    "y_train = np.load(\"y_train.npy\", allow_pickle=True)\n",
    "X_eval = np.load(\"X_eval.npy\", allow_pickle=True)\n",
    "y_eval = np.load(\"y_eval.npy\", allow_pickle=True)\n",
    "\n",
    "model = DecisionTreeClassifier(random_state=0)\n",
    "\n",
    "model.fit(X_train, y_train)\n",
    "dump(model, 'dance_classifier.joblib')\n",
    "\n",
    "loaded_model = load('dance_classifier.joblib')\n",
    "predictions = loaded_model.predict(X_eval)\n",
    "\n",
    "for i in range(len(predictions)):\n",
    "    print('Predicted label:', predictions[i], 'Correct label:', y_eval[i])"
   ]
  },
  {
   "cell_type": "markdown",
   "metadata": {},
   "source": [
    "## Learning Resources\n",
    "\n",
    "* Trollman, Frank. Artificial Intelligence Basics. CODE University of Applied Sciences. [code.berlin](https://code.berlin/en/about/team/)\n",
    "* Google for Developers. Introduction to Machine Learning. [developers.google.com](https://developers.google.com/machine-learning/intro-to-ml)\n",
    "* Bowles, M. (2015). Machine Learning In Python: Essential Techniques for Predictive Analysis. Wiley Publishing. [Available via Scribd](https://www.scribd.com/read/261058954/Machine-Learning-in-Python-Essential-Techniques-for-Predictive-Analysis)\n",
    "* Gollapudi, Sunila. Practical Machine Learning. Packt Publishing. [packtpub.com](https://www.packtpub.com/product/practical-machine-learning/9781784399689)\n",
    "* Amr, Tarek. (2020). Hands-On Machine Learning with scikit-learn and Scientific Python Toolkits. Packt Publishing. [packtpub.com](https://www.packtpub.com/product/hands-on-machine-learning-with-scikit-learn-and-scientific-python-toolkits/9781838826048)\n",
    "* Tensorflow. Convolutional Neural Network. [tensorflow.org](https://www.tensorflow.org/tutorials/images/cnn)\n",
    "* TensorFlow. Module Name: MobileNetV2. [tensorflow.org](https://www.tensorflow.org/api_docs/python/tf/keras/applications/mobilenet_v2/MobileNetV2)\n",
    "* TensorFlow. Long Short-Term Memory. [tensorflow.org](https://www.tensorflow.org/api_docs/python/tf/keras/layers/LSTM)\n",
    "*  Artley, Brendan. Time Series Forecasting with ARIMA , SARIMA and SARIMAX. Towards Data Science. [towardsdatascience.com](https://towardsdatascience.com/time-series-forecasting-with-arima-sarima-and-sarimax-ee61099e78f6)"
   ]
  }
 ],
 "metadata": {
  "kernelspec": {
   "display_name": "Python 3 (ipykernel)",
   "language": "python",
   "name": "python3"
  },
  "language_info": {
   "codemirror_mode": {
    "name": "ipython",
    "version": 3
   },
   "file_extension": ".py",
   "mimetype": "text/x-python",
   "name": "python",
   "nbconvert_exporter": "python",
   "pygments_lexer": "ipython3",
   "version": "3.11.3"
  }
 },
 "nbformat": 4,
 "nbformat_minor": 4
}
