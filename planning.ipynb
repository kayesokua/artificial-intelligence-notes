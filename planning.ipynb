{
 "cells": [
  {
   "cell_type": "markdown",
   "metadata": {},
   "source": [
    "# AI Planning\n",
    "\n",
    "AI Planning explores the process of using autonomous techniques to solve planning and scheduling problems. A planning problem is one in which we have some initial starting state, which we wish to transform into a desired goal state through the application of a set of actions."
   ]
  },
  {
   "cell_type": "code",
   "execution_count": 52,
   "metadata": {
    "tags": []
   },
   "outputs": [],
   "source": [
    "import random\n",
    "import math\n",
    "from PIL import Image\n",
    "import numpy as np"
   ]
  },
  {
   "cell_type": "markdown",
   "metadata": {
    "tags": []
   },
   "source": [
    "## Forward State Space Planning\n",
    "\n",
    "### Example: Robotic Arm Planning\n",
    "\n",
    "You are simulating a robot arm inside a grid that contains ingredients. The goal is for the robot arm to pick up all the relevant ingredients (I) in the grid to create a drink.\n",
    "\n",
    "**State**\n",
    "- Grid layout with ingredients, either an irrelevant (0) or relevant ingredient (I)\n",
    "- Robotic Arm's coordinates (x, y)\n",
    "\n",
    "**Goal**: Pick up all ingredients one by one.\n",
    "\n",
    "**Actions:** Move UP, DOWN, LEFT, RIGHT for navigation, and PICK UP ingredient"
   ]
  },
  {
   "cell_type": "code",
   "execution_count": 53,
   "metadata": {
    "tags": []
   },
   "outputs": [],
   "source": [
    "def forward_planning(grid, robot_pos):\n",
    "    plan = []\n",
    "\n",
    "    while any('I' in row for row in grid):\n",
    "        closest_ingredient = find_closest_ingredient(grid, robot_pos)\n",
    "        path = find_path_to_ingredient(grid, robot_pos, closest_ingredient)\n",
    "\n",
    "        for action in path:\n",
    "            plan.append(action)\n",
    "\n",
    "        plan.append('PICK_UP')\n",
    "        grid[closest_ingredient[0]][closest_ingredient[1]] = '0'\n",
    "        robot_pos = closest_ingredient\n",
    "\n",
    "    return plan\n",
    "\n",
    "def find_closest_from_positions(last_pos, ingredients_positions):\n",
    "    closest_distance = float('inf')\n",
    "    closest_ingredient = None\n",
    "\n",
    "    for pos in ingredients_positions:\n",
    "        dist = abs(last_pos[0] - pos[0]) + abs(last_pos[1] - pos[1])\n",
    "        if dist < closest_distance:\n",
    "            closest_distance = dist\n",
    "            closest_ingredient = pos\n",
    "\n",
    "    return closest_ingredient\n",
    "\n",
    "    return closest_ingredient\n",
    "\n",
    "def find_path_to_ingredient(grid, start, end):\n",
    "    moves = [(0, 1, 'RIGHT'), (1, 0, 'DOWN'), (0, -1, 'LEFT'), (-1, 0, 'UP')]\n",
    "    queue = [(start, [])]\n",
    "    visited = set()\n",
    "\n",
    "    while queue:\n",
    "        (current_pos, path) = queue.pop(0)  # Dequeue the front\n",
    "\n",
    "        if current_pos == end:\n",
    "            return path\n",
    "\n",
    "        visited.add(current_pos)\n",
    "\n",
    "        for dx, dy, action in moves:\n",
    "            new_pos = (current_pos[0] + dx, current_pos[1] + dy)\n",
    "            \n",
    "            if 0 <= new_pos[0] < len(grid) and 0 <= new_pos[1] < len(grid[0]) and new_pos not in visited:\n",
    "                new_path = path + [action]\n",
    "                queue.append((new_pos, new_path))\n",
    "\n",
    "    return []"
   ]
  },
  {
   "cell_type": "code",
   "execution_count": 54,
   "metadata": {
    "tags": []
   },
   "outputs": [
    {
     "name": "stdout",
     "output_type": "stream",
     "text": [
      "['RIGHT', 'RIGHT', 'PICK_UP', 'DOWN', 'DOWN', 'LEFT', 'PICK_UP', 'RIGHT', 'RIGHT', 'PICK_UP', 'DOWN', 'LEFT', 'LEFT', 'LEFT', 'PICK_UP']\n"
     ]
    }
   ],
   "source": [
    "grid = [\n",
    "    ['0', '0', 'I', '0'],\n",
    "    ['0', '0', '0', '0'],\n",
    "    ['0', 'I', '0', 'I'],\n",
    "    ['I', '0', '0', '0']\n",
    "]\n",
    "\n",
    "robot_pos = (0, 0)\n",
    "\n",
    "# Retrieve Plan\n",
    "plan = forward_planning(grid, robot_pos)\n",
    "print(plan)"
   ]
  },
  {
   "cell_type": "markdown",
   "metadata": {},
   "source": [
    "## Backward State Space Planning\n",
    "\n",
    "Backward planning, often known as \"goal decomposition,\" starts with the goal and works backward to the initial state. Let's illustrate using the same goal and actions.\n",
    "\n",
    "**Goal**: The robot returns all ingredients back to its initial position.\n",
    "\n",
    "**Preconditions:** for Achieving the Goal:\n",
    "- The robot's initial position is at the drop-off point with the ingredient\n",
    "- Before being at the drop-off, the robot had the ingredient's initial location\n",
    "- Before picking up an ingredient, the robot must have moved to its location.\n"
   ]
  },
  {
   "cell_type": "code",
   "execution_count": 65,
   "metadata": {
    "tags": []
   },
   "outputs": [
    {
     "name": "stdout",
     "output_type": "stream",
     "text": [
      "['DROP', 'RIGHT', 'RIGHT', 'RIGHT', 'UP', 'DROP', 'LEFT', 'LEFT', 'DROP', 'RIGHT', 'UP', 'UP', 'DROP', 'LEFT', 'LEFT']\n"
     ]
    }
   ],
   "source": [
    "def backward_planning(grid, robot_pos, forward_plan):\n",
    "    plan = []\n",
    "\n",
    "    # Reverse the order of the forward plan and iterate over it\n",
    "    for action in reversed(forward_plan):\n",
    "        if action == 'PICK_UP':\n",
    "            plan.append('DROP')\n",
    "        else:\n",
    "            # For movement actions, we need to reverse the movement to undo it\n",
    "            reverse_actions = {'UP': 'DOWN', 'DOWN': 'UP', 'LEFT': 'RIGHT', 'RIGHT': 'LEFT'}\n",
    "            reverse_action = reverse_actions[action]\n",
    "            plan.append(reverse_action)\n",
    "            move_dict = {'UP': (-1, 0), 'DOWN': (1, 0), 'LEFT': (0, -1), 'RIGHT': (0, 1)}\n",
    "            move = move_dict[reverse_action]\n",
    "            robot_pos = (robot_pos[0] + move[0], robot_pos[1] + move[1])\n",
    "\n",
    "    return plan\n",
    "\n",
    "grid = [\n",
    "    ['0', '0', 'I', '0'],\n",
    "    ['0', '0', '0', '0'],\n",
    "    ['0', 'I', '0', 'I'],\n",
    "    ['I', '0', '0', '0']\n",
    "]\n",
    "robot_pos = (0, 0)\n",
    "\n",
    "forward_plan = forward_planning([row.copy() for row in grid], robot_pos)\n",
    "backward_plan = backward_planning([row.copy() for row in grid], robot_pos, forward_plan)\n",
    "\n",
    "print(backward_plan)"
   ]
  }
 ],
 "metadata": {
  "kernelspec": {
   "display_name": "Python 3 (ipykernel)",
   "language": "python",
   "name": "python3"
  },
  "language_info": {
   "codemirror_mode": {
    "name": "ipython",
    "version": 3
   },
   "file_extension": ".py",
   "mimetype": "text/x-python",
   "name": "python",
   "nbconvert_exporter": "python",
   "pygments_lexer": "ipython3",
   "version": "3.11.3"
  }
 },
 "nbformat": 4,
 "nbformat_minor": 4
}
